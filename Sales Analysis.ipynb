{
 "cells": [
  {
   "cell_type": "code",
   "execution_count": 317,
   "id": "3be6b4c1-e3be-44bc-8518-5584bd6b5de0",
   "metadata": {},
   "outputs": [],
   "source": [
    "import pandas as pd \n",
    "import numpy as np \n",
    "import glob\n",
    "import os\n",
    "import matplotlib.pyplot as plt"
   ]
  },
  {
   "cell_type": "code",
   "execution_count": 16,
   "id": "bc753a48-3424-4ce4-8f1c-871e3a73195c",
   "metadata": {
    "scrolled": true
   },
   "outputs": [],
   "source": [
    "path_to_sales_data = os.path.join(os.path.expanduser(\"~\"), \"Desktop\", \"Data Analysis Project\", \"Sales_Data\", \"*.csv\")\n"
   ]
  },
  {
   "cell_type": "code",
   "execution_count": 17,
   "id": "5aead52b-7590-4802-a8a8-7e1a659dd136",
   "metadata": {},
   "outputs": [],
   "source": [
    "csv_files = glob.glob(path_to_sales_data)"
   ]
  },
  {
   "cell_type": "code",
   "execution_count": 20,
   "id": "eebea59f-c2a9-41b9-8b21-95b66b16fa23",
   "metadata": {},
   "outputs": [],
   "source": [
    "dataframes = []\n",
    "for file in csv_files:\n",
    "    df=pd.read_csv(file)\n",
    "    dataframes.append(df)"
   ]
  },
  {
   "cell_type": "code",
   "execution_count": 23,
   "id": "006febc6-85fe-4d93-8204-3b19656f8d5a",
   "metadata": {},
   "outputs": [],
   "source": [
    "combined_df = pd.concat(dataframes, ignore_index=True)"
   ]
  },
  {
   "cell_type": "code",
   "execution_count": 24,
   "id": "03bf0118-f488-453e-b9fa-34738c4ebfa0",
   "metadata": {},
   "outputs": [
    {
     "data": {
      "text/html": [
       "<div>\n",
       "<style scoped>\n",
       "    .dataframe tbody tr th:only-of-type {\n",
       "        vertical-align: middle;\n",
       "    }\n",
       "\n",
       "    .dataframe tbody tr th {\n",
       "        vertical-align: top;\n",
       "    }\n",
       "\n",
       "    .dataframe thead th {\n",
       "        text-align: right;\n",
       "    }\n",
       "</style>\n",
       "<table border=\"1\" class=\"dataframe\">\n",
       "  <thead>\n",
       "    <tr style=\"text-align: right;\">\n",
       "      <th></th>\n",
       "      <th>Order ID</th>\n",
       "      <th>Product</th>\n",
       "      <th>Quantity Ordered</th>\n",
       "      <th>Price Each</th>\n",
       "      <th>Order Date</th>\n",
       "      <th>Purchase Address</th>\n",
       "    </tr>\n",
       "  </thead>\n",
       "  <tbody>\n",
       "    <tr>\n",
       "      <th>0</th>\n",
       "      <td>176558</td>\n",
       "      <td>USB-C Charging Cable</td>\n",
       "      <td>2</td>\n",
       "      <td>11.95</td>\n",
       "      <td>04/19/19 08:46</td>\n",
       "      <td>917 1st St, Dallas, TX 75001</td>\n",
       "    </tr>\n",
       "    <tr>\n",
       "      <th>1</th>\n",
       "      <td>NaN</td>\n",
       "      <td>NaN</td>\n",
       "      <td>NaN</td>\n",
       "      <td>NaN</td>\n",
       "      <td>NaN</td>\n",
       "      <td>NaN</td>\n",
       "    </tr>\n",
       "    <tr>\n",
       "      <th>2</th>\n",
       "      <td>176559</td>\n",
       "      <td>Bose SoundSport Headphones</td>\n",
       "      <td>1</td>\n",
       "      <td>99.99</td>\n",
       "      <td>04/07/19 22:30</td>\n",
       "      <td>682 Chestnut St, Boston, MA 02215</td>\n",
       "    </tr>\n",
       "    <tr>\n",
       "      <th>3</th>\n",
       "      <td>176560</td>\n",
       "      <td>Google Phone</td>\n",
       "      <td>1</td>\n",
       "      <td>600</td>\n",
       "      <td>04/12/19 14:38</td>\n",
       "      <td>669 Spruce St, Los Angeles, CA 90001</td>\n",
       "    </tr>\n",
       "    <tr>\n",
       "      <th>4</th>\n",
       "      <td>176560</td>\n",
       "      <td>Wired Headphones</td>\n",
       "      <td>1</td>\n",
       "      <td>11.99</td>\n",
       "      <td>04/12/19 14:38</td>\n",
       "      <td>669 Spruce St, Los Angeles, CA 90001</td>\n",
       "    </tr>\n",
       "    <tr>\n",
       "      <th>...</th>\n",
       "      <td>...</td>\n",
       "      <td>...</td>\n",
       "      <td>...</td>\n",
       "      <td>...</td>\n",
       "      <td>...</td>\n",
       "      <td>...</td>\n",
       "    </tr>\n",
       "    <tr>\n",
       "      <th>186845</th>\n",
       "      <td>259353</td>\n",
       "      <td>AAA Batteries (4-pack)</td>\n",
       "      <td>3</td>\n",
       "      <td>2.99</td>\n",
       "      <td>09/17/19 20:56</td>\n",
       "      <td>840 Highland St, Los Angeles, CA 90001</td>\n",
       "    </tr>\n",
       "    <tr>\n",
       "      <th>186846</th>\n",
       "      <td>259354</td>\n",
       "      <td>iPhone</td>\n",
       "      <td>1</td>\n",
       "      <td>700</td>\n",
       "      <td>09/01/19 16:00</td>\n",
       "      <td>216 Dogwood St, San Francisco, CA 94016</td>\n",
       "    </tr>\n",
       "    <tr>\n",
       "      <th>186847</th>\n",
       "      <td>259355</td>\n",
       "      <td>iPhone</td>\n",
       "      <td>1</td>\n",
       "      <td>700</td>\n",
       "      <td>09/23/19 07:39</td>\n",
       "      <td>220 12th St, San Francisco, CA 94016</td>\n",
       "    </tr>\n",
       "    <tr>\n",
       "      <th>186848</th>\n",
       "      <td>259356</td>\n",
       "      <td>34in Ultrawide Monitor</td>\n",
       "      <td>1</td>\n",
       "      <td>379.99</td>\n",
       "      <td>09/19/19 17:30</td>\n",
       "      <td>511 Forest St, San Francisco, CA 94016</td>\n",
       "    </tr>\n",
       "    <tr>\n",
       "      <th>186849</th>\n",
       "      <td>259357</td>\n",
       "      <td>USB-C Charging Cable</td>\n",
       "      <td>1</td>\n",
       "      <td>11.95</td>\n",
       "      <td>09/30/19 00:18</td>\n",
       "      <td>250 Meadow St, San Francisco, CA 94016</td>\n",
       "    </tr>\n",
       "  </tbody>\n",
       "</table>\n",
       "<p>186850 rows × 6 columns</p>\n",
       "</div>"
      ],
      "text/plain": [
       "       Order ID                     Product Quantity Ordered Price Each  \\\n",
       "0        176558        USB-C Charging Cable                2      11.95   \n",
       "1           NaN                         NaN              NaN        NaN   \n",
       "2        176559  Bose SoundSport Headphones                1      99.99   \n",
       "3        176560                Google Phone                1        600   \n",
       "4        176560            Wired Headphones                1      11.99   \n",
       "...         ...                         ...              ...        ...   \n",
       "186845   259353      AAA Batteries (4-pack)                3       2.99   \n",
       "186846   259354                      iPhone                1        700   \n",
       "186847   259355                      iPhone                1        700   \n",
       "186848   259356      34in Ultrawide Monitor                1     379.99   \n",
       "186849   259357        USB-C Charging Cable                1      11.95   \n",
       "\n",
       "            Order Date                         Purchase Address  \n",
       "0       04/19/19 08:46             917 1st St, Dallas, TX 75001  \n",
       "1                  NaN                                      NaN  \n",
       "2       04/07/19 22:30        682 Chestnut St, Boston, MA 02215  \n",
       "3       04/12/19 14:38     669 Spruce St, Los Angeles, CA 90001  \n",
       "4       04/12/19 14:38     669 Spruce St, Los Angeles, CA 90001  \n",
       "...                ...                                      ...  \n",
       "186845  09/17/19 20:56   840 Highland St, Los Angeles, CA 90001  \n",
       "186846  09/01/19 16:00  216 Dogwood St, San Francisco, CA 94016  \n",
       "186847  09/23/19 07:39     220 12th St, San Francisco, CA 94016  \n",
       "186848  09/19/19 17:30   511 Forest St, San Francisco, CA 94016  \n",
       "186849  09/30/19 00:18   250 Meadow St, San Francisco, CA 94016  \n",
       "\n",
       "[186850 rows x 6 columns]"
      ]
     },
     "execution_count": 24,
     "metadata": {},
     "output_type": "execute_result"
    }
   ],
   "source": [
    "combined_df"
   ]
  },
  {
   "cell_type": "code",
   "execution_count": 30,
   "id": "dd3d2224-7b77-4ea9-9186-80d5b9177c45",
   "metadata": {},
   "outputs": [],
   "source": [
    "#ALL the files are Updated\n",
    "combined_df.to_csv('all_data.csv', index=False)"
   ]
  },
  {
   "cell_type": "code",
   "execution_count": 29,
   "id": "aa524097-4ee6-456f-b484-c6d7344c0a23",
   "metadata": {},
   "outputs": [],
   "source": [
    "#reading Data from Updatef File \n",
    "all_data = pd.read_csv('all_data.csv')"
   ]
  },
  {
   "cell_type": "code",
   "execution_count": 34,
   "id": "b053cdcc-067c-4bab-b971-2cf216f19450",
   "metadata": {},
   "outputs": [
    {
     "name": "stdout",
     "output_type": "stream",
     "text": [
      "<class 'pandas.core.frame.DataFrame'>\n",
      "RangeIndex: 186850 entries, 0 to 186849\n",
      "Data columns (total 6 columns):\n",
      " #   Column            Non-Null Count   Dtype \n",
      "---  ------            --------------   ----- \n",
      " 0   Order ID          186305 non-null  object\n",
      " 1   Product           186305 non-null  object\n",
      " 2   Quantity Ordered  186305 non-null  object\n",
      " 3   Price Each        186305 non-null  object\n",
      " 4   Order Date        186305 non-null  object\n",
      " 5   Purchase Address  186305 non-null  object\n",
      "dtypes: object(6)\n",
      "memory usage: 8.6+ MB\n"
     ]
    }
   ],
   "source": [
    "all_data.info()"
   ]
  },
  {
   "cell_type": "markdown",
   "id": "ef1bd044-ced7-4506-8b92-cdd6e0912eb0",
   "metadata": {},
   "source": [
    "### Add Month Column to get better Monthwise Analysis"
   ]
  },
  {
   "cell_type": "code",
   "execution_count": 36,
   "id": "047ba6d1-e379-4f1f-aa52-85abf76cd6fc",
   "metadata": {},
   "outputs": [
    {
     "name": "stderr",
     "output_type": "stream",
     "text": [
      "C:\\Users\\AcS\\AppData\\Local\\Temp\\ipykernel_9948\\2419712077.py:1: UserWarning: Could not infer format, so each element will be parsed individually, falling back to `dateutil`. To ensure parsing is consistent and as-expected, please specify a format.\n",
      "  all_data['Order Date']=pd.to_datetime(all_data['Order Date'] , errors = 'coerce')\n"
     ]
    }
   ],
   "source": [
    "all_data['Order Date']=pd.to_datetime(all_data['Order Date'] , errors = 'coerce')"
   ]
  },
  {
   "cell_type": "code",
   "execution_count": 42,
   "id": "0680301a-aad8-47e2-a8bd-005c0745cda5",
   "metadata": {},
   "outputs": [],
   "source": [
    "all_data['Order_Month']=all_data['Order Date'].dt.strftime('%b')"
   ]
  },
  {
   "cell_type": "code",
   "execution_count": 46,
   "id": "2e2a3e1f-1e4e-4308-9271-e67277765df2",
   "metadata": {},
   "outputs": [],
   "source": [
    "all_data.drop(index=[1],inplace=True)"
   ]
  },
  {
   "cell_type": "code",
   "execution_count": 56,
   "id": "a169ca48-0631-4a3d-b83b-f38ec20e523c",
   "metadata": {},
   "outputs": [],
   "source": [
    "all_data.reset_index().drop(columns=(['index']), inplace=True)"
   ]
  },
  {
   "cell_type": "code",
   "execution_count": 60,
   "id": "c4ef1d08-c84c-4f5b-9bc5-cdaa33b2f1bf",
   "metadata": {},
   "outputs": [],
   "source": [
    "data_updated=all_data.reset_index().drop(columns=(['index'])).copy()"
   ]
  },
  {
   "cell_type": "code",
   "execution_count": 69,
   "id": "7e7bc31d-abbe-42db-9254-5477243ac6ba",
   "metadata": {},
   "outputs": [],
   "source": [
    "#Monthly share of sales \n",
    "Monthly_share=(data_updated.Order_Month.value_counts()/185950)*100"
   ]
  },
  {
   "cell_type": "code",
   "execution_count": 70,
   "id": "a5540868-8366-4efd-8d6f-fcebd6c9825c",
   "metadata": {},
   "outputs": [
    {
     "name": "stdout",
     "output_type": "stream",
     "text": [
      "<class 'pandas.core.frame.DataFrame'>\n",
      "RangeIndex: 186849 entries, 0 to 186848\n",
      "Data columns (total 7 columns):\n",
      " #   Column            Non-Null Count   Dtype         \n",
      "---  ------            --------------   -----         \n",
      " 0   Order ID          186305 non-null  object        \n",
      " 1   Product           186305 non-null  object        \n",
      " 2   Quantity Ordered  186305 non-null  object        \n",
      " 3   Price Each        186305 non-null  object        \n",
      " 4   Order Date        185950 non-null  datetime64[ns]\n",
      " 5   Purchase Address  186305 non-null  object        \n",
      " 6   Order_Month       185950 non-null  object        \n",
      "dtypes: datetime64[ns](1), object(6)\n",
      "memory usage: 10.0+ MB\n"
     ]
    }
   ],
   "source": [
    "data_updated.info()"
   ]
  },
  {
   "cell_type": "code",
   "execution_count": 79,
   "id": "3f9cc054-4222-46a6-bf33-d132fef25db3",
   "metadata": {},
   "outputs": [
    {
     "data": {
      "text/html": [
       "<div>\n",
       "<style scoped>\n",
       "    .dataframe tbody tr th:only-of-type {\n",
       "        vertical-align: middle;\n",
       "    }\n",
       "\n",
       "    .dataframe tbody tr th {\n",
       "        vertical-align: top;\n",
       "    }\n",
       "\n",
       "    .dataframe thead th {\n",
       "        text-align: right;\n",
       "    }\n",
       "</style>\n",
       "<table border=\"1\" class=\"dataframe\">\n",
       "  <thead>\n",
       "    <tr style=\"text-align: right;\">\n",
       "      <th></th>\n",
       "      <th>Order ID</th>\n",
       "      <th>Product</th>\n",
       "      <th>Quantity Ordered</th>\n",
       "      <th>Price Each</th>\n",
       "      <th>Order Date</th>\n",
       "      <th>Purchase Address</th>\n",
       "      <th>Order_Month</th>\n",
       "    </tr>\n",
       "  </thead>\n",
       "  <tbody>\n",
       "    <tr>\n",
       "      <th>355</th>\n",
       "      <td>NaN</td>\n",
       "      <td>NaN</td>\n",
       "      <td>NaN</td>\n",
       "      <td>NaN</td>\n",
       "      <td>NaT</td>\n",
       "      <td>NaN</td>\n",
       "      <td>NaN</td>\n",
       "    </tr>\n",
       "    <tr>\n",
       "      <th>734</th>\n",
       "      <td>NaN</td>\n",
       "      <td>NaN</td>\n",
       "      <td>NaN</td>\n",
       "      <td>NaN</td>\n",
       "      <td>NaT</td>\n",
       "      <td>NaN</td>\n",
       "      <td>NaN</td>\n",
       "    </tr>\n",
       "    <tr>\n",
       "      <th>1432</th>\n",
       "      <td>NaN</td>\n",
       "      <td>NaN</td>\n",
       "      <td>NaN</td>\n",
       "      <td>NaN</td>\n",
       "      <td>NaT</td>\n",
       "      <td>NaN</td>\n",
       "      <td>NaN</td>\n",
       "    </tr>\n",
       "    <tr>\n",
       "      <th>1552</th>\n",
       "      <td>NaN</td>\n",
       "      <td>NaN</td>\n",
       "      <td>NaN</td>\n",
       "      <td>NaN</td>\n",
       "      <td>NaT</td>\n",
       "      <td>NaN</td>\n",
       "      <td>NaN</td>\n",
       "    </tr>\n",
       "    <tr>\n",
       "      <th>1570</th>\n",
       "      <td>NaN</td>\n",
       "      <td>NaN</td>\n",
       "      <td>NaN</td>\n",
       "      <td>NaN</td>\n",
       "      <td>NaT</td>\n",
       "      <td>NaN</td>\n",
       "      <td>NaN</td>\n",
       "    </tr>\n",
       "    <tr>\n",
       "      <th>...</th>\n",
       "      <td>...</td>\n",
       "      <td>...</td>\n",
       "      <td>...</td>\n",
       "      <td>...</td>\n",
       "      <td>...</td>\n",
       "      <td>...</td>\n",
       "      <td>...</td>\n",
       "    </tr>\n",
       "    <tr>\n",
       "      <th>185175</th>\n",
       "      <td>NaN</td>\n",
       "      <td>NaN</td>\n",
       "      <td>NaN</td>\n",
       "      <td>NaN</td>\n",
       "      <td>NaT</td>\n",
       "      <td>NaN</td>\n",
       "      <td>NaN</td>\n",
       "    </tr>\n",
       "    <tr>\n",
       "      <th>185437</th>\n",
       "      <td>NaN</td>\n",
       "      <td>NaN</td>\n",
       "      <td>NaN</td>\n",
       "      <td>NaN</td>\n",
       "      <td>NaT</td>\n",
       "      <td>NaN</td>\n",
       "      <td>NaN</td>\n",
       "    </tr>\n",
       "    <tr>\n",
       "      <th>186041</th>\n",
       "      <td>NaN</td>\n",
       "      <td>NaN</td>\n",
       "      <td>NaN</td>\n",
       "      <td>NaN</td>\n",
       "      <td>NaT</td>\n",
       "      <td>NaN</td>\n",
       "      <td>NaN</td>\n",
       "    </tr>\n",
       "    <tr>\n",
       "      <th>186547</th>\n",
       "      <td>NaN</td>\n",
       "      <td>NaN</td>\n",
       "      <td>NaN</td>\n",
       "      <td>NaN</td>\n",
       "      <td>NaT</td>\n",
       "      <td>NaN</td>\n",
       "      <td>NaN</td>\n",
       "    </tr>\n",
       "    <tr>\n",
       "      <th>186825</th>\n",
       "      <td>NaN</td>\n",
       "      <td>NaN</td>\n",
       "      <td>NaN</td>\n",
       "      <td>NaN</td>\n",
       "      <td>NaT</td>\n",
       "      <td>NaN</td>\n",
       "      <td>NaN</td>\n",
       "    </tr>\n",
       "  </tbody>\n",
       "</table>\n",
       "<p>544 rows × 7 columns</p>\n",
       "</div>"
      ],
      "text/plain": [
       "       Order ID Product Quantity Ordered Price Each Order Date  \\\n",
       "355         NaN     NaN              NaN        NaN        NaT   \n",
       "734         NaN     NaN              NaN        NaN        NaT   \n",
       "1432        NaN     NaN              NaN        NaN        NaT   \n",
       "1552        NaN     NaN              NaN        NaN        NaT   \n",
       "1570        NaN     NaN              NaN        NaN        NaT   \n",
       "...         ...     ...              ...        ...        ...   \n",
       "185175      NaN     NaN              NaN        NaN        NaT   \n",
       "185437      NaN     NaN              NaN        NaN        NaT   \n",
       "186041      NaN     NaN              NaN        NaN        NaT   \n",
       "186547      NaN     NaN              NaN        NaN        NaT   \n",
       "186825      NaN     NaN              NaN        NaN        NaT   \n",
       "\n",
       "       Purchase Address Order_Month  \n",
       "355                 NaN         NaN  \n",
       "734                 NaN         NaN  \n",
       "1432                NaN         NaN  \n",
       "1552                NaN         NaN  \n",
       "1570                NaN         NaN  \n",
       "...                 ...         ...  \n",
       "185175              NaN         NaN  \n",
       "185437              NaN         NaN  \n",
       "186041              NaN         NaN  \n",
       "186547              NaN         NaN  \n",
       "186825              NaN         NaN  \n",
       "\n",
       "[544 rows x 7 columns]"
      ]
     },
     "execution_count": 79,
     "metadata": {},
     "output_type": "execute_result"
    }
   ],
   "source": [
    "data_updated[data_updated['Order ID'].isnull()]"
   ]
  },
  {
   "cell_type": "code",
   "execution_count": 88,
   "id": "94c61ccd-8f92-4b1f-89f0-f2798af1d748",
   "metadata": {},
   "outputs": [
    {
     "data": {
      "text/plain": [
       "Order ID              0\n",
       "Product               0\n",
       "Quantity Ordered      0\n",
       "Price Each            0\n",
       "Order Date          355\n",
       "Purchase Address      0\n",
       "Order_Month         355\n",
       "dtype: int64"
      ]
     },
     "execution_count": 88,
     "metadata": {},
     "output_type": "execute_result"
    }
   ],
   "source": [
    "data_updated.isnull().sum()"
   ]
  },
  {
   "cell_type": "code",
   "execution_count": null,
   "id": "0f74333f-bc90-482c-a5e0-2f945e1b50a8",
   "metadata": {},
   "outputs": [],
   "source": [
    "# we have 544 rows which contains nan value removng it from all rows \n",
    "data_updated.dropna(how='all' , inplace=True)\n"
   ]
  },
  {
   "cell_type": "markdown",
   "id": "0048c7ec-caac-47df-a757-327ed65d0592",
   "metadata": {},
   "source": [
    "### Converting All Numerical columns into Integer and Float "
   ]
  },
  {
   "cell_type": "code",
   "execution_count": 94,
   "id": "e8399fd4-528c-4d34-ae6a-d5d3118bece3",
   "metadata": {},
   "outputs": [],
   "source": [
    "data_updated['Order ID']=data_updated['Order ID'].str.replace(\"'\" , \" \")"
   ]
  },
  {
   "cell_type": "code",
   "execution_count": 113,
   "id": "d49b9d1a-5942-437e-8a13-2b6af8bab1ec",
   "metadata": {},
   "outputs": [],
   "source": [
    "data_updated['Order ID']=pd.to_numeric(data_updated['Order ID'] , errors = 'coerce')"
   ]
  },
  {
   "cell_type": "code",
   "execution_count": 117,
   "id": "77eac276-137b-43e2-b888-ea95f166708e",
   "metadata": {},
   "outputs": [],
   "source": [
    "data_updated = data_updated.dropna(subset=['Order ID'])"
   ]
  },
  {
   "cell_type": "code",
   "execution_count": 119,
   "id": "0aa6ecd2-8402-47da-9648-618534cf56d6",
   "metadata": {},
   "outputs": [
    {
     "name": "stderr",
     "output_type": "stream",
     "text": [
      "C:\\Users\\AcS\\AppData\\Local\\Temp\\ipykernel_9948\\2195840475.py:1: SettingWithCopyWarning: \n",
      "A value is trying to be set on a copy of a slice from a DataFrame.\n",
      "Try using .loc[row_indexer,col_indexer] = value instead\n",
      "\n",
      "See the caveats in the documentation: https://pandas.pydata.org/pandas-docs/stable/user_guide/indexing.html#returning-a-view-versus-a-copy\n",
      "  data_updated['Order ID']=data_updated['Order ID'].astype(int)\n"
     ]
    }
   ],
   "source": [
    "data_updated['Order ID']=data_updated['Order ID'].astype(int)\n"
   ]
  },
  {
   "cell_type": "code",
   "execution_count": 120,
   "id": "21d73a43-244f-4e5c-a2a4-b16229136a00",
   "metadata": {},
   "outputs": [
    {
     "name": "stdout",
     "output_type": "stream",
     "text": [
      "<class 'pandas.core.frame.DataFrame'>\n",
      "Index: 185950 entries, 0 to 186848\n",
      "Data columns (total 7 columns):\n",
      " #   Column            Non-Null Count   Dtype         \n",
      "---  ------            --------------   -----         \n",
      " 0   Order ID          185950 non-null  int32         \n",
      " 1   Product           185950 non-null  object        \n",
      " 2   Quantity Ordered  185950 non-null  object        \n",
      " 3   Price Each        185950 non-null  object        \n",
      " 4   Order Date        185950 non-null  datetime64[ns]\n",
      " 5   Purchase Address  185950 non-null  object        \n",
      " 6   Order_Month       185950 non-null  object        \n",
      "dtypes: datetime64[ns](1), int32(1), object(5)\n",
      "memory usage: 10.6+ MB\n"
     ]
    }
   ],
   "source": [
    "data_updated.info()"
   ]
  },
  {
   "cell_type": "code",
   "execution_count": 123,
   "id": "5762cf0f-30b2-4579-acdb-766328f506f6",
   "metadata": {},
   "outputs": [
    {
     "name": "stderr",
     "output_type": "stream",
     "text": [
      "C:\\Users\\AcS\\AppData\\Local\\Temp\\ipykernel_9948\\570437569.py:1: SettingWithCopyWarning: \n",
      "A value is trying to be set on a copy of a slice from a DataFrame.\n",
      "Try using .loc[row_indexer,col_indexer] = value instead\n",
      "\n",
      "See the caveats in the documentation: https://pandas.pydata.org/pandas-docs/stable/user_guide/indexing.html#returning-a-view-versus-a-copy\n",
      "  data_updated['Quantity Ordered']=data_updated['Quantity Ordered'].astype(int)\n"
     ]
    }
   ],
   "source": [
    "data_updated['Quantity Ordered']=data_updated['Quantity Ordered'].astype(int)"
   ]
  },
  {
   "cell_type": "code",
   "execution_count": 128,
   "id": "e0ebf370-7fa7-4d02-9481-7c854f009c12",
   "metadata": {},
   "outputs": [
    {
     "name": "stderr",
     "output_type": "stream",
     "text": [
      "C:\\Users\\AcS\\AppData\\Local\\Temp\\ipykernel_9948\\2867366605.py:1: SettingWithCopyWarning: \n",
      "A value is trying to be set on a copy of a slice from a DataFrame.\n",
      "Try using .loc[row_indexer,col_indexer] = value instead\n",
      "\n",
      "See the caveats in the documentation: https://pandas.pydata.org/pandas-docs/stable/user_guide/indexing.html#returning-a-view-versus-a-copy\n",
      "  data_updated['Price Each']=data_updated['Price Each'].astype(float)\n"
     ]
    }
   ],
   "source": [
    "data_updated['Price Each']=data_updated['Price Each'].astype(float)"
   ]
  },
  {
   "cell_type": "markdown",
   "id": "e32506fd-a288-425e-aa03-33b6cb8ee658",
   "metadata": {},
   "source": [
    "### Updated Data Info"
   ]
  },
  {
   "cell_type": "code",
   "execution_count": 131,
   "id": "34f80fa2-7601-4601-9062-c4a04d8d2ad1",
   "metadata": {},
   "outputs": [
    {
     "name": "stdout",
     "output_type": "stream",
     "text": [
      "<class 'pandas.core.frame.DataFrame'>\n",
      "Index: 185950 entries, 0 to 186848\n",
      "Data columns (total 7 columns):\n",
      " #   Column            Non-Null Count   Dtype         \n",
      "---  ------            --------------   -----         \n",
      " 0   Order ID          185950 non-null  int32         \n",
      " 1   Product           185950 non-null  object        \n",
      " 2   Quantity Ordered  185950 non-null  int32         \n",
      " 3   Price Each        185950 non-null  float64       \n",
      " 4   Order Date        185950 non-null  datetime64[ns]\n",
      " 5   Purchase Address  185950 non-null  object        \n",
      " 6   Order_Month       185950 non-null  object        \n",
      "dtypes: datetime64[ns](1), float64(1), int32(2), object(3)\n",
      "memory usage: 9.9+ MB\n"
     ]
    }
   ],
   "source": [
    "data_updated.info()"
   ]
  },
  {
   "cell_type": "code",
   "execution_count": 135,
   "id": "f4a318ab-5710-4036-813c-c1cc8661353e",
   "metadata": {},
   "outputs": [
    {
     "name": "stderr",
     "output_type": "stream",
     "text": [
      "C:\\Users\\AcS\\AppData\\Local\\Temp\\ipykernel_9948\\2939740230.py:1: SettingWithCopyWarning: \n",
      "A value is trying to be set on a copy of a slice from a DataFrame\n",
      "\n",
      "See the caveats in the documentation: https://pandas.pydata.org/pandas-docs/stable/user_guide/indexing.html#returning-a-view-versus-a-copy\n",
      "  data_updated.rename(columns={'Price Each' : 'Price Each($)'} , inplace=True)\n"
     ]
    }
   ],
   "source": [
    "data_updated.rename(columns={'Price Each' : 'Price Each($)'} , inplace=True)"
   ]
  },
  {
   "cell_type": "code",
   "execution_count": 143,
   "id": "5e37898c-0be9-41a2-9f3c-dfa8d56cc040",
   "metadata": {},
   "outputs": [
    {
     "data": {
      "text/plain": [
       "185950"
      ]
     },
     "execution_count": 143,
     "metadata": {},
     "output_type": "execute_result"
    }
   ],
   "source": [
    "len(data_updated[data_updated['Purchase Address'].str.contains('St')])"
   ]
  },
  {
   "cell_type": "code",
   "execution_count": 313,
   "id": "faf7fd28-b108-47b2-89d2-4f4448dc22b6",
   "metadata": {},
   "outputs": [
    {
     "name": "stderr",
     "output_type": "stream",
     "text": [
      "C:\\Users\\AcS\\AppData\\Local\\Temp\\ipykernel_9948\\2918370849.py:1: SettingWithCopyWarning: \n",
      "A value is trying to be set on a copy of a slice from a DataFrame\n",
      "\n",
      "See the caveats in the documentation: https://pandas.pydata.org/pandas-docs/stable/user_guide/indexing.html#returning-a-view-versus-a-copy\n",
      "  data_updated.drop(columns=['City' , 'State'] , inplace=True)\n"
     ]
    }
   ],
   "source": [
    "data_updated.drop(columns=['City' , 'State'] , inplace=True)"
   ]
  },
  {
   "cell_type": "code",
   "execution_count": 166,
   "id": "97176a4a-7370-4c0e-aa34-37265b149875",
   "metadata": {},
   "outputs": [
    {
     "name": "stderr",
     "output_type": "stream",
     "text": [
      "C:\\Users\\AcS\\AppData\\Local\\Temp\\ipykernel_9948\\1184495173.py:1: SettingWithCopyWarning: \n",
      "A value is trying to be set on a copy of a slice from a DataFrame.\n",
      "Try using .loc[row_indexer,col_indexer] = value instead\n",
      "\n",
      "See the caveats in the documentation: https://pandas.pydata.org/pandas-docs/stable/user_guide/indexing.html#returning-a-view-versus-a-copy\n",
      "  data_updated['Order_Hour']=data_updated['Order Date'].dt.hour\n"
     ]
    }
   ],
   "source": [
    "data_updated['Order_Hour']=data_updated['Order Date'].dt.hour"
   ]
  },
  {
   "cell_type": "code",
   "execution_count": 191,
   "id": "2b797b0d-feee-41cd-8605-d3d0d3e324d7",
   "metadata": {},
   "outputs": [
    {
     "name": "stderr",
     "output_type": "stream",
     "text": [
      "C:\\Users\\AcS\\AppData\\Local\\Temp\\ipykernel_9948\\2887767557.py:2: SettingWithCopyWarning: \n",
      "A value is trying to be set on a copy of a slice from a DataFrame.\n",
      "Try using .loc[row_indexer,col_indexer] = value instead\n",
      "\n",
      "See the caveats in the documentation: https://pandas.pydata.org/pandas-docs/stable/user_guide/indexing.html#returning-a-view-versus-a-copy\n",
      "  data_updated['Sales ($)']=data_updated['Quantity Ordered'] * data_updated['Price Each($)']\n"
     ]
    }
   ],
   "source": [
    "# Adding Sales Columns \n",
    "data_updated['Sales ($)']=data_updated['Quantity Ordered'] * data_updated['Price Each($)']"
   ]
  },
  {
   "cell_type": "markdown",
   "id": "9e69c7ed-03e0-449f-bfd1-bd8d46a5d695",
   "metadata": {},
   "source": [
    "### What was the best month for sales? How much was earned that month?"
   ]
  },
  {
   "cell_type": "code",
   "execution_count": 192,
   "id": "e42eda7d-c960-4bb8-8cc9-6f41bc00d255",
   "metadata": {},
   "outputs": [
    {
     "data": {
      "text/plain": [
       "Order_Month\n",
       "Dec    4613443.34\n",
       "Oct    3736726.88\n",
       "Apr    3390670.24\n",
       "Nov    3199603.20\n",
       "May    3152606.75\n",
       "Mar    2807100.38\n",
       "Jul    2647775.76\n",
       "Jun    2577802.26\n",
       "Aug    2244467.88\n",
       "Feb    2202022.42\n",
       "Sep    2097560.13\n",
       "Jan    1822256.73\n",
       "Name: Sales ($), dtype: float64"
      ]
     },
     "execution_count": 192,
     "metadata": {},
     "output_type": "execute_result"
    }
   ],
   "source": [
    "data_updated.groupby('Order_Month')['Sales ($)'].sum().sort_values(ascending=False)"
   ]
  },
  {
   "cell_type": "code",
   "execution_count": 175,
   "id": "dac5459b-5a36-4a4b-b6ef-25fe7ea781d3",
   "metadata": {},
   "outputs": [],
   "source": [
    "monthly_analysis=data_updated.groupby('Order_Month')"
   ]
  },
  {
   "cell_type": "code",
   "execution_count": 193,
   "id": "4d5499f5-af29-4cce-a35e-7a0082b7b0ab",
   "metadata": {},
   "outputs": [
    {
     "data": {
      "text/plain": [
       "Order_Month\n",
       "Apr    20558\n",
       "Aug    13448\n",
       "Dec    28114\n",
       "Feb    13449\n",
       "Jan    10903\n",
       "Jul    16072\n",
       "Jun    15253\n",
       "Mar    17005\n",
       "May    18667\n",
       "Nov    19798\n",
       "Oct    22703\n",
       "Sep    13109\n",
       "Name: Quantity Ordered, dtype: int32"
      ]
     },
     "execution_count": 193,
     "metadata": {},
     "output_type": "execute_result"
    }
   ],
   "source": [
    "monthly_analysis['Quantity Ordered'].sum()"
   ]
  },
  {
   "cell_type": "markdown",
   "id": "78aa78c0-f566-4994-8338-9ed72c1f3a85",
   "metadata": {},
   "source": [
    "### What city sold the most product?"
   ]
  },
  {
   "cell_type": "code",
   "execution_count": 311,
   "id": "2a39faec-a4f2-4eb2-bf7a-26e382eefbca",
   "metadata": {},
   "outputs": [
    {
     "data": {
      "text/plain": [
       "City_State\n",
       "Atlanta (GA)          16602\n",
       "Austin (TX)           11153\n",
       "Boston (MA)           22528\n",
       "Dallas (TX)           16730\n",
       "Los Angeles (CA)      33289\n",
       "New York City (NY)    27932\n",
       "Portland (ME)          2750\n",
       "Portland (OR)         11303\n",
       "San Francisco (CA)    50239\n",
       "Seattle (WA)          16553\n",
       "Name: Quantity Ordered, dtype: int32"
      ]
     },
     "execution_count": 311,
     "metadata": {},
     "output_type": "execute_result"
    }
   ],
   "source": [
    "data_updated.groupby('City_State')['Quantity Ordered'].sum()"
   ]
  },
  {
   "cell_type": "code",
   "execution_count": null,
   "id": "21dfde6d-d9e5-49c7-937d-4da9009004ff",
   "metadata": {},
   "outputs": [],
   "source": []
  },
  {
   "cell_type": "code",
   "execution_count": 309,
   "id": "559da52b-543b-4fb8-a719-380a96205eb0",
   "metadata": {},
   "outputs": [],
   "source": [
    "grouping=data_updated.groupby('City_State')"
   ]
  },
  {
   "cell_type": "code",
   "execution_count": 310,
   "id": "5d347edb-2976-48c4-a8ce-ac80e7197c4c",
   "metadata": {},
   "outputs": [
    {
     "data": {
      "text/html": [
       "<div>\n",
       "<style scoped>\n",
       "    .dataframe tbody tr th:only-of-type {\n",
       "        vertical-align: middle;\n",
       "    }\n",
       "\n",
       "    .dataframe tbody tr th {\n",
       "        vertical-align: top;\n",
       "    }\n",
       "\n",
       "    .dataframe thead th {\n",
       "        text-align: right;\n",
       "    }\n",
       "</style>\n",
       "<table border=\"1\" class=\"dataframe\">\n",
       "  <thead>\n",
       "    <tr style=\"text-align: right;\">\n",
       "      <th></th>\n",
       "      <th>City_State</th>\n",
       "      <th>Quantity Ordered</th>\n",
       "      <th>Product</th>\n",
       "      <th>Sales ($)</th>\n",
       "    </tr>\n",
       "  </thead>\n",
       "  <tbody>\n",
       "    <tr>\n",
       "      <th>0</th>\n",
       "      <td>Atlanta (GA)</td>\n",
       "      <td>16602</td>\n",
       "      <td>USB-C Charging CableLightning Charging CableBo...</td>\n",
       "      <td>2795498.58</td>\n",
       "    </tr>\n",
       "    <tr>\n",
       "      <th>1</th>\n",
       "      <td>Austin (TX)</td>\n",
       "      <td>11153</td>\n",
       "      <td>Apple Airpods HeadphonesApple Airpods Headphon...</td>\n",
       "      <td>1819581.75</td>\n",
       "    </tr>\n",
       "    <tr>\n",
       "      <th>2</th>\n",
       "      <td>Boston (MA)</td>\n",
       "      <td>22528</td>\n",
       "      <td>Bose SoundSport HeadphonesWired HeadphonesAppl...</td>\n",
       "      <td>3661642.01</td>\n",
       "    </tr>\n",
       "    <tr>\n",
       "      <th>3</th>\n",
       "      <td>Dallas (TX)</td>\n",
       "      <td>16730</td>\n",
       "      <td>USB-C Charging Cable27in 4K Gaming MonitorAA B...</td>\n",
       "      <td>2767975.40</td>\n",
       "    </tr>\n",
       "    <tr>\n",
       "      <th>4</th>\n",
       "      <td>Los Angeles (CA)</td>\n",
       "      <td>33289</td>\n",
       "      <td>Google PhoneWired HeadphonesWired HeadphonesGo...</td>\n",
       "      <td>5452570.80</td>\n",
       "    </tr>\n",
       "    <tr>\n",
       "      <th>5</th>\n",
       "      <td>New York City (NY)</td>\n",
       "      <td>27932</td>\n",
       "      <td>Apple Airpods HeadphonesAAA Batteries (4-pack)...</td>\n",
       "      <td>4664317.43</td>\n",
       "    </tr>\n",
       "    <tr>\n",
       "      <th>6</th>\n",
       "      <td>Portland (ME)</td>\n",
       "      <td>2750</td>\n",
       "      <td>AAA Batteries (4-pack)Flatscreen TVWired Headp...</td>\n",
       "      <td>449758.27</td>\n",
       "    </tr>\n",
       "    <tr>\n",
       "      <th>7</th>\n",
       "      <td>Portland (OR)</td>\n",
       "      <td>11303</td>\n",
       "      <td>AAA Batteries (4-pack)Lightning Charging Cable...</td>\n",
       "      <td>1870732.34</td>\n",
       "    </tr>\n",
       "    <tr>\n",
       "      <th>8</th>\n",
       "      <td>San Francisco (CA)</td>\n",
       "      <td>50239</td>\n",
       "      <td>USB-C Charging CableMacbook Pro LaptopUSB-C Ch...</td>\n",
       "      <td>8262203.91</td>\n",
       "    </tr>\n",
       "    <tr>\n",
       "      <th>9</th>\n",
       "      <td>Seattle (WA)</td>\n",
       "      <td>16553</td>\n",
       "      <td>Bose SoundSport HeadphonesLightning Charging C...</td>\n",
       "      <td>2747755.48</td>\n",
       "    </tr>\n",
       "  </tbody>\n",
       "</table>\n",
       "</div>"
      ],
      "text/plain": [
       "           City_State  Quantity Ordered  \\\n",
       "0        Atlanta (GA)             16602   \n",
       "1         Austin (TX)             11153   \n",
       "2         Boston (MA)             22528   \n",
       "3         Dallas (TX)             16730   \n",
       "4    Los Angeles (CA)             33289   \n",
       "5  New York City (NY)             27932   \n",
       "6       Portland (ME)              2750   \n",
       "7       Portland (OR)             11303   \n",
       "8  San Francisco (CA)             50239   \n",
       "9        Seattle (WA)             16553   \n",
       "\n",
       "                                             Product   Sales ($)  \n",
       "0  USB-C Charging CableLightning Charging CableBo...  2795498.58  \n",
       "1  Apple Airpods HeadphonesApple Airpods Headphon...  1819581.75  \n",
       "2  Bose SoundSport HeadphonesWired HeadphonesAppl...  3661642.01  \n",
       "3  USB-C Charging Cable27in 4K Gaming MonitorAA B...  2767975.40  \n",
       "4  Google PhoneWired HeadphonesWired HeadphonesGo...  5452570.80  \n",
       "5  Apple Airpods HeadphonesAAA Batteries (4-pack)...  4664317.43  \n",
       "6  AAA Batteries (4-pack)Flatscreen TVWired Headp...   449758.27  \n",
       "7  AAA Batteries (4-pack)Lightning Charging Cable...  1870732.34  \n",
       "8  USB-C Charging CableMacbook Pro LaptopUSB-C Ch...  8262203.91  \n",
       "9  Bose SoundSport HeadphonesLightning Charging C...  2747755.48  "
      ]
     },
     "execution_count": 310,
     "metadata": {},
     "output_type": "execute_result"
    }
   ],
   "source": [
    "grouping[['Quantity Ordered' , 'Product','Sales ($)' ]].sum().reset_index()"
   ]
  },
  {
   "cell_type": "code",
   "execution_count": 221,
   "id": "9b5dd2a1-1ea3-4177-b5e3-cf44625069ae",
   "metadata": {},
   "outputs": [
    {
     "data": {
      "text/html": [
       "<div>\n",
       "<style scoped>\n",
       "    .dataframe tbody tr th:only-of-type {\n",
       "        vertical-align: middle;\n",
       "    }\n",
       "\n",
       "    .dataframe tbody tr th {\n",
       "        vertical-align: top;\n",
       "    }\n",
       "\n",
       "    .dataframe thead th {\n",
       "        text-align: right;\n",
       "    }\n",
       "</style>\n",
       "<table border=\"1\" class=\"dataframe\">\n",
       "  <thead>\n",
       "    <tr style=\"text-align: right;\">\n",
       "      <th></th>\n",
       "      <th>City</th>\n",
       "      <th>Quantity Ordered</th>\n",
       "      <th>Sales ($)</th>\n",
       "    </tr>\n",
       "  </thead>\n",
       "  <tbody>\n",
       "    <tr>\n",
       "      <th>0</th>\n",
       "      <td>Atlanta</td>\n",
       "      <td>1.115651</td>\n",
       "      <td>187.856903</td>\n",
       "    </tr>\n",
       "    <tr>\n",
       "      <th>1</th>\n",
       "      <td>Austin</td>\n",
       "      <td>1.125997</td>\n",
       "      <td>183.703357</td>\n",
       "    </tr>\n",
       "    <tr>\n",
       "      <th>2</th>\n",
       "      <td>Boston</td>\n",
       "      <td>1.130129</td>\n",
       "      <td>183.688272</td>\n",
       "    </tr>\n",
       "    <tr>\n",
       "      <th>3</th>\n",
       "      <td>Dallas</td>\n",
       "      <td>1.128880</td>\n",
       "      <td>186.772969</td>\n",
       "    </tr>\n",
       "    <tr>\n",
       "      <th>4</th>\n",
       "      <td>Los Angeles</td>\n",
       "      <td>1.124438</td>\n",
       "      <td>184.177362</td>\n",
       "    </tr>\n",
       "    <tr>\n",
       "      <th>5</th>\n",
       "      <td>New York City</td>\n",
       "      <td>1.122849</td>\n",
       "      <td>187.502711</td>\n",
       "    </tr>\n",
       "    <tr>\n",
       "      <th>6</th>\n",
       "      <td>Portland</td>\n",
       "      <td>1.127397</td>\n",
       "      <td>186.160498</td>\n",
       "    </tr>\n",
       "    <tr>\n",
       "      <th>7</th>\n",
       "      <td>San Francisco</td>\n",
       "      <td>1.123111</td>\n",
       "      <td>184.704550</td>\n",
       "    </tr>\n",
       "    <tr>\n",
       "      <th>8</th>\n",
       "      <td>Seattle</td>\n",
       "      <td>1.123608</td>\n",
       "      <td>186.516120</td>\n",
       "    </tr>\n",
       "  </tbody>\n",
       "</table>\n",
       "</div>"
      ],
      "text/plain": [
       "            City  Quantity Ordered   Sales ($)\n",
       "0        Atlanta          1.115651  187.856903\n",
       "1         Austin          1.125997  183.703357\n",
       "2         Boston          1.130129  183.688272\n",
       "3         Dallas          1.128880  186.772969\n",
       "4    Los Angeles          1.124438  184.177362\n",
       "5  New York City          1.122849  187.502711\n",
       "6       Portland          1.127397  186.160498\n",
       "7  San Francisco          1.123111  184.704550\n",
       "8        Seattle          1.123608  186.516120"
      ]
     },
     "execution_count": 221,
     "metadata": {},
     "output_type": "execute_result"
    }
   ],
   "source": [
    "grouping[['Quantity Ordered' , 'Sales ($)']].mean().reset_index()"
   ]
  },
  {
   "cell_type": "code",
   "execution_count": 224,
   "id": "42e6d548-59b0-4a1e-99e7-54968722677a",
   "metadata": {},
   "outputs": [],
   "source": [
    "hourly_analysis=data_updated.groupby('Order_Hour')"
   ]
  },
  {
   "cell_type": "code",
   "execution_count": 232,
   "id": "0a330833-45cb-4a6d-87a9-7e8014182ef6",
   "metadata": {},
   "outputs": [
    {
     "data": {
      "text/html": [
       "<div>\n",
       "<style scoped>\n",
       "    .dataframe tbody tr th:only-of-type {\n",
       "        vertical-align: middle;\n",
       "    }\n",
       "\n",
       "    .dataframe tbody tr th {\n",
       "        vertical-align: top;\n",
       "    }\n",
       "\n",
       "    .dataframe thead th {\n",
       "        text-align: right;\n",
       "    }\n",
       "</style>\n",
       "<table border=\"1\" class=\"dataframe\">\n",
       "  <thead>\n",
       "    <tr style=\"text-align: right;\">\n",
       "      <th></th>\n",
       "      <th>Quantity Ordered</th>\n",
       "      <th>Sales ($)</th>\n",
       "    </tr>\n",
       "    <tr>\n",
       "      <th>Order_Hour</th>\n",
       "      <th></th>\n",
       "      <th></th>\n",
       "    </tr>\n",
       "  </thead>\n",
       "  <tbody>\n",
       "    <tr>\n",
       "      <th>1</th>\n",
       "      <td>1.114468</td>\n",
       "      <td>196.113566</td>\n",
       "    </tr>\n",
       "    <tr>\n",
       "      <th>17</th>\n",
       "      <td>1.122030</td>\n",
       "      <td>195.372200</td>\n",
       "    </tr>\n",
       "    <tr>\n",
       "      <th>15</th>\n",
       "      <td>1.119509</td>\n",
       "      <td>190.815686</td>\n",
       "    </tr>\n",
       "    <tr>\n",
       "      <th>8</th>\n",
       "      <td>1.119246</td>\n",
       "      <td>190.592866</td>\n",
       "    </tr>\n",
       "    <tr>\n",
       "      <th>4</th>\n",
       "      <td>1.097190</td>\n",
       "      <td>190.469567</td>\n",
       "    </tr>\n",
       "    <tr>\n",
       "      <th>14</th>\n",
       "      <td>1.125455</td>\n",
       "      <td>189.700722</td>\n",
       "    </tr>\n",
       "    <tr>\n",
       "      <th>2</th>\n",
       "      <td>1.124698</td>\n",
       "      <td>188.939212</td>\n",
       "    </tr>\n",
       "    <tr>\n",
       "      <th>23</th>\n",
       "      <td>1.125896</td>\n",
       "      <td>187.936963</td>\n",
       "    </tr>\n",
       "    <tr>\n",
       "      <th>9</th>\n",
       "      <td>1.122085</td>\n",
       "      <td>187.360606</td>\n",
       "    </tr>\n",
       "    <tr>\n",
       "      <th>21</th>\n",
       "      <td>1.121143</td>\n",
       "      <td>186.979293</td>\n",
       "    </tr>\n",
       "    <tr>\n",
       "      <th>19</th>\n",
       "      <td>1.121271</td>\n",
       "      <td>186.977028</td>\n",
       "    </tr>\n",
       "    <tr>\n",
       "      <th>20</th>\n",
       "      <td>1.125940</td>\n",
       "      <td>186.597664</td>\n",
       "    </tr>\n",
       "    <tr>\n",
       "      <th>7</th>\n",
       "      <td>1.135876</td>\n",
       "      <td>185.702847</td>\n",
       "    </tr>\n",
       "    <tr>\n",
       "      <th>11</th>\n",
       "      <td>1.128434</td>\n",
       "      <td>185.368644</td>\n",
       "    </tr>\n",
       "    <tr>\n",
       "      <th>12</th>\n",
       "      <td>1.128307</td>\n",
       "      <td>184.064617</td>\n",
       "    </tr>\n",
       "    <tr>\n",
       "      <th>16</th>\n",
       "      <td>1.123074</td>\n",
       "      <td>183.416921</td>\n",
       "    </tr>\n",
       "    <tr>\n",
       "      <th>0</th>\n",
       "      <td>1.132481</td>\n",
       "      <td>182.537409</td>\n",
       "    </tr>\n",
       "    <tr>\n",
       "      <th>22</th>\n",
       "      <td>1.122081</td>\n",
       "      <td>182.220495</td>\n",
       "    </tr>\n",
       "    <tr>\n",
       "      <th>18</th>\n",
       "      <td>1.123941</td>\n",
       "      <td>180.728689</td>\n",
       "    </tr>\n",
       "    <tr>\n",
       "      <th>6</th>\n",
       "      <td>1.132151</td>\n",
       "      <td>180.545125</td>\n",
       "    </tr>\n",
       "    <tr>\n",
       "      <th>13</th>\n",
       "      <td>1.128288</td>\n",
       "      <td>177.705483</td>\n",
       "    </tr>\n",
       "    <tr>\n",
       "      <th>10</th>\n",
       "      <td>1.124635</td>\n",
       "      <td>177.657782</td>\n",
       "    </tr>\n",
       "    <tr>\n",
       "      <th>3</th>\n",
       "      <td>1.116727</td>\n",
       "      <td>175.400590</td>\n",
       "    </tr>\n",
       "    <tr>\n",
       "      <th>5</th>\n",
       "      <td>1.130204</td>\n",
       "      <td>174.625148</td>\n",
       "    </tr>\n",
       "  </tbody>\n",
       "</table>\n",
       "</div>"
      ],
      "text/plain": [
       "            Quantity Ordered   Sales ($)\n",
       "Order_Hour                              \n",
       "1                   1.114468  196.113566\n",
       "17                  1.122030  195.372200\n",
       "15                  1.119509  190.815686\n",
       "8                   1.119246  190.592866\n",
       "4                   1.097190  190.469567\n",
       "14                  1.125455  189.700722\n",
       "2                   1.124698  188.939212\n",
       "23                  1.125896  187.936963\n",
       "9                   1.122085  187.360606\n",
       "21                  1.121143  186.979293\n",
       "19                  1.121271  186.977028\n",
       "20                  1.125940  186.597664\n",
       "7                   1.135876  185.702847\n",
       "11                  1.128434  185.368644\n",
       "12                  1.128307  184.064617\n",
       "16                  1.123074  183.416921\n",
       "0                   1.132481  182.537409\n",
       "22                  1.122081  182.220495\n",
       "18                  1.123941  180.728689\n",
       "6                   1.132151  180.545125\n",
       "13                  1.128288  177.705483\n",
       "10                  1.124635  177.657782\n",
       "3                   1.116727  175.400590\n",
       "5                   1.130204  174.625148"
      ]
     },
     "execution_count": 232,
     "metadata": {},
     "output_type": "execute_result"
    }
   ],
   "source": [
    "hourly_analysis[['Quantity Ordered' , 'Sales ($)' ]].mean().sort_values(by='Sales ($)',ascending=False)"
   ]
  },
  {
   "cell_type": "code",
   "execution_count": 323,
   "id": "f78fe2f6-ccfe-4091-950b-a62458fd7d4c",
   "metadata": {},
   "outputs": [
    {
     "data": {
      "text/html": [
       "<div>\n",
       "<style scoped>\n",
       "    .dataframe tbody tr th:only-of-type {\n",
       "        vertical-align: middle;\n",
       "    }\n",
       "\n",
       "    .dataframe tbody tr th {\n",
       "        vertical-align: top;\n",
       "    }\n",
       "\n",
       "    .dataframe thead th {\n",
       "        text-align: right;\n",
       "    }\n",
       "</style>\n",
       "<table border=\"1\" class=\"dataframe\">\n",
       "  <thead>\n",
       "    <tr style=\"text-align: right;\">\n",
       "      <th></th>\n",
       "      <th>Order_Hour</th>\n",
       "      <th>Quantity Ordered</th>\n",
       "      <th>Sales ($)</th>\n",
       "      <th>Product</th>\n",
       "    </tr>\n",
       "  </thead>\n",
       "  <tbody>\n",
       "    <tr>\n",
       "      <th>0</th>\n",
       "      <td>19</td>\n",
       "      <td>14470</td>\n",
       "      <td>2412938.54</td>\n",
       "      <td>27in 4K Gaming MonitorGoogle PhoneUSB-C Chargi...</td>\n",
       "    </tr>\n",
       "    <tr>\n",
       "      <th>1</th>\n",
       "      <td>12</td>\n",
       "      <td>14202</td>\n",
       "      <td>2316821.34</td>\n",
       "      <td>Lightning Charging CableBose SoundSport Headph...</td>\n",
       "    </tr>\n",
       "    <tr>\n",
       "      <th>2</th>\n",
       "      <td>11</td>\n",
       "      <td>14005</td>\n",
       "      <td>2300610.24</td>\n",
       "      <td>Apple Airpods HeadphonesBose SoundSport Headph...</td>\n",
       "    </tr>\n",
       "    <tr>\n",
       "      <th>3</th>\n",
       "      <td>20</td>\n",
       "      <td>13768</td>\n",
       "      <td>2281716.24</td>\n",
       "      <td>Apple Airpods HeadphonesFlatscreen TVApple Air...</td>\n",
       "    </tr>\n",
       "    <tr>\n",
       "      <th>4</th>\n",
       "      <td>18</td>\n",
       "      <td>13802</td>\n",
       "      <td>2219348.30</td>\n",
       "      <td>USB-C Charging CableUSB-C Charging CableFlatsc...</td>\n",
       "    </tr>\n",
       "    <tr>\n",
       "      <th>5</th>\n",
       "      <td>13</td>\n",
       "      <td>13685</td>\n",
       "      <td>2155389.80</td>\n",
       "      <td>USB-C Charging CableUSB-C Charging CableLightn...</td>\n",
       "    </tr>\n",
       "    <tr>\n",
       "      <th>6</th>\n",
       "      <td>17</td>\n",
       "      <td>12229</td>\n",
       "      <td>2129361.61</td>\n",
       "      <td>Google PhoneAAA Batteries (4-pack)Google Phone...</td>\n",
       "    </tr>\n",
       "    <tr>\n",
       "      <th>7</th>\n",
       "      <td>14</td>\n",
       "      <td>12362</td>\n",
       "      <td>2083672.73</td>\n",
       "      <td>Google PhoneWired HeadphonesWired HeadphonesLi...</td>\n",
       "    </tr>\n",
       "    <tr>\n",
       "      <th>8</th>\n",
       "      <td>21</td>\n",
       "      <td>12244</td>\n",
       "      <td>2042000.86</td>\n",
       "      <td>iPhoneAA Batteries (4-pack)Lightning Charging ...</td>\n",
       "    </tr>\n",
       "    <tr>\n",
       "      <th>9</th>\n",
       "      <td>10</td>\n",
       "      <td>12308</td>\n",
       "      <td>1944286.77</td>\n",
       "      <td>USB-C Charging CableMacbook Pro LaptopAA Batte...</td>\n",
       "    </tr>\n",
       "    <tr>\n",
       "      <th>10</th>\n",
       "      <td>15</td>\n",
       "      <td>11391</td>\n",
       "      <td>1941549.60</td>\n",
       "      <td>AA Batteries (4-pack)Lightning Charging Cable2...</td>\n",
       "    </tr>\n",
       "    <tr>\n",
       "      <th>11</th>\n",
       "      <td>16</td>\n",
       "      <td>11662</td>\n",
       "      <td>1904601.31</td>\n",
       "      <td>USB-C Charging CableApple Airpods HeadphonesLi...</td>\n",
       "    </tr>\n",
       "    <tr>\n",
       "      <th>12</th>\n",
       "      <td>9</td>\n",
       "      <td>9816</td>\n",
       "      <td>1639030.58</td>\n",
       "      <td>Wired HeadphonesWired HeadphonesLightning Char...</td>\n",
       "    </tr>\n",
       "    <tr>\n",
       "      <th>13</th>\n",
       "      <td>22</td>\n",
       "      <td>9899</td>\n",
       "      <td>1607549.21</td>\n",
       "      <td>Bose SoundSport HeadphonesUSB-C Charging Cable...</td>\n",
       "    </tr>\n",
       "    <tr>\n",
       "      <th>14</th>\n",
       "      <td>8</td>\n",
       "      <td>7002</td>\n",
       "      <td>1192348.97</td>\n",
       "      <td>USB-C Charging CableApple Airpods HeadphonesLi...</td>\n",
       "    </tr>\n",
       "    <tr>\n",
       "      <th>15</th>\n",
       "      <td>23</td>\n",
       "      <td>7065</td>\n",
       "      <td>1179304.44</td>\n",
       "      <td>Apple Airpods HeadphonesWired Headphones27in F...</td>\n",
       "    </tr>\n",
       "    <tr>\n",
       "      <th>16</th>\n",
       "      <td>7</td>\n",
       "      <td>4556</td>\n",
       "      <td>744854.12</td>\n",
       "      <td>Bose SoundSport HeadphonesApple Airpods Headph...</td>\n",
       "    </tr>\n",
       "    <tr>\n",
       "      <th>17</th>\n",
       "      <td>0</td>\n",
       "      <td>4428</td>\n",
       "      <td>713721.27</td>\n",
       "      <td>AAA Batteries (4-pack)USB-C Charging CableAAA ...</td>\n",
       "    </tr>\n",
       "    <tr>\n",
       "      <th>18</th>\n",
       "      <td>1</td>\n",
       "      <td>2619</td>\n",
       "      <td>460866.88</td>\n",
       "      <td>27in FHD MonitorApple Airpods HeadphonesBose S...</td>\n",
       "    </tr>\n",
       "    <tr>\n",
       "      <th>19</th>\n",
       "      <td>6</td>\n",
       "      <td>2810</td>\n",
       "      <td>448113.00</td>\n",
       "      <td>Lightning Charging CableBose SoundSport Headph...</td>\n",
       "    </tr>\n",
       "    <tr>\n",
       "      <th>20</th>\n",
       "      <td>2</td>\n",
       "      <td>1398</td>\n",
       "      <td>234851.44</td>\n",
       "      <td>USB-C Charging CableWired HeadphonesUSB-C Char...</td>\n",
       "    </tr>\n",
       "    <tr>\n",
       "      <th>21</th>\n",
       "      <td>5</td>\n",
       "      <td>1493</td>\n",
       "      <td>230679.82</td>\n",
       "      <td>Google PhoneGoogle PhoneAA Batteries (4-pack)A...</td>\n",
       "    </tr>\n",
       "    <tr>\n",
       "      <th>22</th>\n",
       "      <td>4</td>\n",
       "      <td>937</td>\n",
       "      <td>162661.01</td>\n",
       "      <td>20in MonitorLightning Charging CableBose Sound...</td>\n",
       "    </tr>\n",
       "    <tr>\n",
       "      <th>23</th>\n",
       "      <td>3</td>\n",
       "      <td>928</td>\n",
       "      <td>145757.89</td>\n",
       "      <td>Apple Airpods HeadphonesWired HeadphonesLightn...</td>\n",
       "    </tr>\n",
       "  </tbody>\n",
       "</table>\n",
       "</div>"
      ],
      "text/plain": [
       "    Order_Hour  Quantity Ordered   Sales ($)  \\\n",
       "0           19             14470  2412938.54   \n",
       "1           12             14202  2316821.34   \n",
       "2           11             14005  2300610.24   \n",
       "3           20             13768  2281716.24   \n",
       "4           18             13802  2219348.30   \n",
       "5           13             13685  2155389.80   \n",
       "6           17             12229  2129361.61   \n",
       "7           14             12362  2083672.73   \n",
       "8           21             12244  2042000.86   \n",
       "9           10             12308  1944286.77   \n",
       "10          15             11391  1941549.60   \n",
       "11          16             11662  1904601.31   \n",
       "12           9              9816  1639030.58   \n",
       "13          22              9899  1607549.21   \n",
       "14           8              7002  1192348.97   \n",
       "15          23              7065  1179304.44   \n",
       "16           7              4556   744854.12   \n",
       "17           0              4428   713721.27   \n",
       "18           1              2619   460866.88   \n",
       "19           6              2810   448113.00   \n",
       "20           2              1398   234851.44   \n",
       "21           5              1493   230679.82   \n",
       "22           4               937   162661.01   \n",
       "23           3               928   145757.89   \n",
       "\n",
       "                                              Product  \n",
       "0   27in 4K Gaming MonitorGoogle PhoneUSB-C Chargi...  \n",
       "1   Lightning Charging CableBose SoundSport Headph...  \n",
       "2   Apple Airpods HeadphonesBose SoundSport Headph...  \n",
       "3   Apple Airpods HeadphonesFlatscreen TVApple Air...  \n",
       "4   USB-C Charging CableUSB-C Charging CableFlatsc...  \n",
       "5   USB-C Charging CableUSB-C Charging CableLightn...  \n",
       "6   Google PhoneAAA Batteries (4-pack)Google Phone...  \n",
       "7   Google PhoneWired HeadphonesWired HeadphonesLi...  \n",
       "8   iPhoneAA Batteries (4-pack)Lightning Charging ...  \n",
       "9   USB-C Charging CableMacbook Pro LaptopAA Batte...  \n",
       "10  AA Batteries (4-pack)Lightning Charging Cable2...  \n",
       "11  USB-C Charging CableApple Airpods HeadphonesLi...  \n",
       "12  Wired HeadphonesWired HeadphonesLightning Char...  \n",
       "13  Bose SoundSport HeadphonesUSB-C Charging Cable...  \n",
       "14  USB-C Charging CableApple Airpods HeadphonesLi...  \n",
       "15  Apple Airpods HeadphonesWired Headphones27in F...  \n",
       "16  Bose SoundSport HeadphonesApple Airpods Headph...  \n",
       "17  AAA Batteries (4-pack)USB-C Charging CableAAA ...  \n",
       "18  27in FHD MonitorApple Airpods HeadphonesBose S...  \n",
       "19  Lightning Charging CableBose SoundSport Headph...  \n",
       "20  USB-C Charging CableWired HeadphonesUSB-C Char...  \n",
       "21  Google PhoneGoogle PhoneAA Batteries (4-pack)A...  \n",
       "22  20in MonitorLightning Charging CableBose Sound...  \n",
       "23  Apple Airpods HeadphonesWired HeadphonesLightn...  "
      ]
     },
     "execution_count": 323,
     "metadata": {},
     "output_type": "execute_result"
    }
   ],
   "source": [
    "hourly_analysis[['Quantity Ordered' , 'Sales ($)', 'Product']].sum().sort_values(by='Sales ($)',ascending=False).reset_index()"
   ]
  },
  {
   "cell_type": "code",
   "execution_count": 304,
   "id": "2de2daa7-67dd-4d00-ad40-9bd51ffadce1",
   "metadata": {},
   "outputs": [
    {
     "data": {
      "text/plain": [
       "0          TX 75001\n",
       "1          MA 02215\n",
       "2          CA 90001\n",
       "3          CA 90001\n",
       "4          CA 90001\n",
       "            ...    \n",
       "186844     CA 90001\n",
       "186845     CA 94016\n",
       "186846     CA 94016\n",
       "186847     CA 94016\n",
       "186848     CA 94016\n",
       "Name: Purchase Address, Length: 185950, dtype: object"
      ]
     },
     "execution_count": 304,
     "metadata": {},
     "output_type": "execute_result"
    }
   ],
   "source": [
    "data_updated['Purchase Address'].apply(lambda x : x.split(',')[1])"
   ]
  },
  {
   "cell_type": "code",
   "execution_count": 254,
   "id": "2c7fcd9e-a579-418e-a3e5-28fade27b18a",
   "metadata": {},
   "outputs": [
    {
     "name": "stdout",
     "output_type": "stream",
     "text": [
      "<class 'pandas.core.frame.DataFrame'>\n",
      "Index: 185950 entries, 0 to 186848\n",
      "Data columns (total 13 columns):\n",
      " #   Column            Non-Null Count   Dtype         \n",
      "---  ------            --------------   -----         \n",
      " 0   Order ID          185950 non-null  int32         \n",
      " 1   Product           185950 non-null  object        \n",
      " 2   Quantity Ordered  185950 non-null  int32         \n",
      " 3   Price Each($)     185950 non-null  float64       \n",
      " 4   Order Date        185950 non-null  datetime64[ns]\n",
      " 5   Purchase Address  185950 non-null  object        \n",
      " 6   Order_Month       185950 non-null  object        \n",
      " 7   City              185950 non-null  object        \n",
      " 8   State             185950 non-null  object        \n",
      " 9   Zip Code          185950 non-null  object        \n",
      " 10  Order_Hour        185950 non-null  int32         \n",
      " 11  Sales             185950 non-null  float64       \n",
      " 12  Sales ($)         185950 non-null  float64       \n",
      "dtypes: datetime64[ns](1), float64(3), int32(3), object(6)\n",
      "memory usage: 17.7+ MB\n"
     ]
    }
   ],
   "source": []
  },
  {
   "cell_type": "code",
   "execution_count": 268,
   "id": "a13df15c-1897-4df9-8269-08fd4bf03751",
   "metadata": {},
   "outputs": [],
   "source": [
    "order_id_count=data_updated['Order ID'].value_counts() "
   ]
  },
  {
   "cell_type": "code",
   "execution_count": 271,
   "id": "7bd89741-b319-496d-aee2-3f47dc29dbd3",
   "metadata": {},
   "outputs": [],
   "source": [
    "order_ids_more_than_one=order_id_count[order_id_count > 1].index"
   ]
  },
  {
   "cell_type": "code",
   "execution_count": 275,
   "id": "1cfc0344-b02a-40d7-987b-410a55871f93",
   "metadata": {},
   "outputs": [],
   "source": [
    "filtered_data = data_updated[data_updated['Order ID'].isin(order_ids_more_than_one)]\n"
   ]
  },
  {
   "cell_type": "code",
   "execution_count": 279,
   "id": "c07c75f7-7b2e-4e78-9c88-3cdc399abf8b",
   "metadata": {},
   "outputs": [],
   "source": [
    "order_id_grouping=filtered_data.groupby('Order ID')"
   ]
  },
  {
   "cell_type": "code",
   "execution_count": 294,
   "id": "72ea954c-d5d1-4c62-ad3b-9ee18a850e10",
   "metadata": {},
   "outputs": [
    {
     "data": {
      "text/html": [
       "<div>\n",
       "<style scoped>\n",
       "    .dataframe tbody tr th:only-of-type {\n",
       "        vertical-align: middle;\n",
       "    }\n",
       "\n",
       "    .dataframe tbody tr th {\n",
       "        vertical-align: top;\n",
       "    }\n",
       "\n",
       "    .dataframe thead th {\n",
       "        text-align: right;\n",
       "    }\n",
       "</style>\n",
       "<table border=\"1\" class=\"dataframe\">\n",
       "  <thead>\n",
       "    <tr style=\"text-align: right;\">\n",
       "      <th></th>\n",
       "      <th>Product</th>\n",
       "    </tr>\n",
       "    <tr>\n",
       "      <th>Order ID</th>\n",
       "      <th></th>\n",
       "    </tr>\n",
       "  </thead>\n",
       "  <tbody>\n",
       "    <tr>\n",
       "      <th>141275</th>\n",
       "      <td>USB-C Charging CableWired Headphones</td>\n",
       "    </tr>\n",
       "    <tr>\n",
       "      <th>141290</th>\n",
       "      <td>Apple Airpods HeadphonesAA Batteries (4-pack)</td>\n",
       "    </tr>\n",
       "    <tr>\n",
       "      <th>141365</th>\n",
       "      <td>Vareebadd PhoneWired Headphones</td>\n",
       "    </tr>\n",
       "    <tr>\n",
       "      <th>141384</th>\n",
       "      <td>Google PhoneUSB-C Charging Cable</td>\n",
       "    </tr>\n",
       "    <tr>\n",
       "      <th>141450</th>\n",
       "      <td>Google PhoneBose SoundSport Headphones</td>\n",
       "    </tr>\n",
       "    <tr>\n",
       "      <th>...</th>\n",
       "      <td>...</td>\n",
       "    </tr>\n",
       "    <tr>\n",
       "      <th>319536</th>\n",
       "      <td>Macbook Pro LaptopWired Headphones</td>\n",
       "    </tr>\n",
       "    <tr>\n",
       "      <th>319556</th>\n",
       "      <td>Google PhoneWired Headphones</td>\n",
       "    </tr>\n",
       "    <tr>\n",
       "      <th>319584</th>\n",
       "      <td>iPhoneWired Headphones</td>\n",
       "    </tr>\n",
       "    <tr>\n",
       "      <th>319596</th>\n",
       "      <td>iPhoneLightning Charging Cable</td>\n",
       "    </tr>\n",
       "    <tr>\n",
       "      <th>319631</th>\n",
       "      <td>34in Ultrawide MonitorLightning Charging Cable</td>\n",
       "    </tr>\n",
       "  </tbody>\n",
       "</table>\n",
       "<p>7136 rows × 1 columns</p>\n",
       "</div>"
      ],
      "text/plain": [
       "                                                 Product\n",
       "Order ID                                                \n",
       "141275              USB-C Charging CableWired Headphones\n",
       "141290     Apple Airpods HeadphonesAA Batteries (4-pack)\n",
       "141365                   Vareebadd PhoneWired Headphones\n",
       "141384                  Google PhoneUSB-C Charging Cable\n",
       "141450            Google PhoneBose SoundSport Headphones\n",
       "...                                                  ...\n",
       "319536                Macbook Pro LaptopWired Headphones\n",
       "319556                      Google PhoneWired Headphones\n",
       "319584                            iPhoneWired Headphones\n",
       "319596                    iPhoneLightning Charging Cable\n",
       "319631    34in Ultrawide MonitorLightning Charging Cable\n",
       "\n",
       "[7136 rows x 1 columns]"
      ]
     },
     "execution_count": 294,
     "metadata": {},
     "output_type": "execute_result"
    }
   ],
   "source": [
    "order_id_grouping[['Product']].sum()"
   ]
  },
  {
   "cell_type": "code",
   "execution_count": 307,
   "id": "b9dcbd1c-1d93-48c5-82c5-2f0718464760",
   "metadata": {},
   "outputs": [
    {
     "name": "stderr",
     "output_type": "stream",
     "text": [
      "C:\\Users\\AcS\\AppData\\Local\\Temp\\ipykernel_9948\\2906528619.py:1: SettingWithCopyWarning: \n",
      "A value is trying to be set on a copy of a slice from a DataFrame.\n",
      "Try using .loc[row_indexer,col_indexer] = value instead\n",
      "\n",
      "See the caveats in the documentation: https://pandas.pydata.org/pandas-docs/stable/user_guide/indexing.html#returning-a-view-versus-a-copy\n",
      "  data_updated['City_State']=data_updated['Purchase Address'].apply(lambda x: f\"{x.split(',')[1].strip()} ({x.split(',')[2].strip().split(' ')[0]})\")\n"
     ]
    }
   ],
   "source": [
    "data_updated['City_State']=data_updated['Purchase Address'].apply(lambda x: f\"{x.split(',')[1].strip()} ({x.split(',')[2].strip().split(' ')[0]})\")"
   ]
  },
  {
   "cell_type": "code",
   "execution_count": 315,
   "id": "1d7416fc-5339-4dc4-b63d-d5152f5f9d0c",
   "metadata": {},
   "outputs": [
    {
     "data": {
      "text/html": [
       "<div>\n",
       "<style scoped>\n",
       "    .dataframe tbody tr th:only-of-type {\n",
       "        vertical-align: middle;\n",
       "    }\n",
       "\n",
       "    .dataframe tbody tr th {\n",
       "        vertical-align: top;\n",
       "    }\n",
       "\n",
       "    .dataframe thead th {\n",
       "        text-align: right;\n",
       "    }\n",
       "</style>\n",
       "<table border=\"1\" class=\"dataframe\">\n",
       "  <thead>\n",
       "    <tr style=\"text-align: right;\">\n",
       "      <th></th>\n",
       "      <th>Order ID</th>\n",
       "      <th>Product</th>\n",
       "      <th>Quantity Ordered</th>\n",
       "      <th>Price Each($)</th>\n",
       "      <th>Order Date</th>\n",
       "      <th>Purchase Address</th>\n",
       "      <th>Order_Month</th>\n",
       "      <th>Zip Code</th>\n",
       "      <th>Order_Hour</th>\n",
       "      <th>Sales</th>\n",
       "      <th>Sales ($)</th>\n",
       "      <th>City_State</th>\n",
       "    </tr>\n",
       "  </thead>\n",
       "  <tbody>\n",
       "    <tr>\n",
       "      <th>0</th>\n",
       "      <td>176558</td>\n",
       "      <td>USB-C Charging Cable</td>\n",
       "      <td>2</td>\n",
       "      <td>11.95</td>\n",
       "      <td>2019-04-19 08:46:00</td>\n",
       "      <td>917 1st St, Dallas, TX 75001</td>\n",
       "      <td>Apr</td>\n",
       "      <td>75001</td>\n",
       "      <td>8</td>\n",
       "      <td>23.90</td>\n",
       "      <td>23.90</td>\n",
       "      <td>Dallas (TX)</td>\n",
       "    </tr>\n",
       "    <tr>\n",
       "      <th>1</th>\n",
       "      <td>176559</td>\n",
       "      <td>Bose SoundSport Headphones</td>\n",
       "      <td>1</td>\n",
       "      <td>99.99</td>\n",
       "      <td>2019-04-07 22:30:00</td>\n",
       "      <td>682 Chestnut St, Boston, MA 02215</td>\n",
       "      <td>Apr</td>\n",
       "      <td>02215</td>\n",
       "      <td>22</td>\n",
       "      <td>99.99</td>\n",
       "      <td>99.99</td>\n",
       "      <td>Boston (MA)</td>\n",
       "    </tr>\n",
       "    <tr>\n",
       "      <th>2</th>\n",
       "      <td>176560</td>\n",
       "      <td>Google Phone</td>\n",
       "      <td>1</td>\n",
       "      <td>600.00</td>\n",
       "      <td>2019-04-12 14:38:00</td>\n",
       "      <td>669 Spruce St, Los Angeles, CA 90001</td>\n",
       "      <td>Apr</td>\n",
       "      <td>90001</td>\n",
       "      <td>14</td>\n",
       "      <td>600.00</td>\n",
       "      <td>600.00</td>\n",
       "      <td>Los Angeles (CA)</td>\n",
       "    </tr>\n",
       "    <tr>\n",
       "      <th>3</th>\n",
       "      <td>176560</td>\n",
       "      <td>Wired Headphones</td>\n",
       "      <td>1</td>\n",
       "      <td>11.99</td>\n",
       "      <td>2019-04-12 14:38:00</td>\n",
       "      <td>669 Spruce St, Los Angeles, CA 90001</td>\n",
       "      <td>Apr</td>\n",
       "      <td>90001</td>\n",
       "      <td>14</td>\n",
       "      <td>11.99</td>\n",
       "      <td>11.99</td>\n",
       "      <td>Los Angeles (CA)</td>\n",
       "    </tr>\n",
       "    <tr>\n",
       "      <th>4</th>\n",
       "      <td>176561</td>\n",
       "      <td>Wired Headphones</td>\n",
       "      <td>1</td>\n",
       "      <td>11.99</td>\n",
       "      <td>2019-04-30 09:27:00</td>\n",
       "      <td>333 8th St, Los Angeles, CA 90001</td>\n",
       "      <td>Apr</td>\n",
       "      <td>90001</td>\n",
       "      <td>9</td>\n",
       "      <td>11.99</td>\n",
       "      <td>11.99</td>\n",
       "      <td>Los Angeles (CA)</td>\n",
       "    </tr>\n",
       "  </tbody>\n",
       "</table>\n",
       "</div>"
      ],
      "text/plain": [
       "   Order ID                     Product  Quantity Ordered  Price Each($)  \\\n",
       "0    176558        USB-C Charging Cable                 2          11.95   \n",
       "1    176559  Bose SoundSport Headphones                 1          99.99   \n",
       "2    176560                Google Phone                 1         600.00   \n",
       "3    176560            Wired Headphones                 1          11.99   \n",
       "4    176561            Wired Headphones                 1          11.99   \n",
       "\n",
       "           Order Date                      Purchase Address Order_Month  \\\n",
       "0 2019-04-19 08:46:00          917 1st St, Dallas, TX 75001         Apr   \n",
       "1 2019-04-07 22:30:00     682 Chestnut St, Boston, MA 02215         Apr   \n",
       "2 2019-04-12 14:38:00  669 Spruce St, Los Angeles, CA 90001         Apr   \n",
       "3 2019-04-12 14:38:00  669 Spruce St, Los Angeles, CA 90001         Apr   \n",
       "4 2019-04-30 09:27:00     333 8th St, Los Angeles, CA 90001         Apr   \n",
       "\n",
       "  Zip Code  Order_Hour   Sales  Sales ($)        City_State  \n",
       "0    75001           8   23.90      23.90       Dallas (TX)  \n",
       "1    02215          22   99.99      99.99       Boston (MA)  \n",
       "2    90001          14  600.00     600.00  Los Angeles (CA)  \n",
       "3    90001          14   11.99      11.99  Los Angeles (CA)  \n",
       "4    90001           9   11.99      11.99  Los Angeles (CA)  "
      ]
     },
     "execution_count": 315,
     "metadata": {},
     "output_type": "execute_result"
    }
   ],
   "source": [
    "data_updated.head()\n"
   ]
  },
  {
   "cell_type": "code",
   "execution_count": 324,
   "id": "b300fc50-fffe-4713-b6d6-4490dc0baa3f",
   "metadata": {},
   "outputs": [],
   "source": [
    "from itertools import combinations\n",
    "from collections import Counter"
   ]
  },
  {
   "cell_type": "code",
   "execution_count": 327,
   "id": "48ecfccc-a810-41d4-b643-7076896630f7",
   "metadata": {},
   "outputs": [],
   "source": [
    "df=data_updated[data_updated['Order ID'].duplicated(keep = False)]"
   ]
  },
  {
   "cell_type": "code",
   "execution_count": 329,
   "id": "be55a5bb-ceef-4991-b3c9-75cdc7697595",
   "metadata": {},
   "outputs": [
    {
     "name": "stderr",
     "output_type": "stream",
     "text": [
      "C:\\Users\\AcS\\AppData\\Local\\Temp\\ipykernel_9948\\3354182954.py:1: SettingWithCopyWarning: \n",
      "A value is trying to be set on a copy of a slice from a DataFrame.\n",
      "Try using .loc[row_indexer,col_indexer] = value instead\n",
      "\n",
      "See the caveats in the documentation: https://pandas.pydata.org/pandas-docs/stable/user_guide/indexing.html#returning-a-view-versus-a-copy\n",
      "  df['complete_order']=df.groupby('Order ID')['Product'].transform( lambda x : (',').join(x))\n"
     ]
    }
   ],
   "source": [
    "df['complete_order']=df.groupby('Order ID')['Product'].transform( lambda x : (',').join(x))"
   ]
  },
  {
   "cell_type": "code",
   "execution_count": 330,
   "id": "46bd5de2-8f96-457b-8583-a1a8aae67129",
   "metadata": {},
   "outputs": [
    {
     "data": {
      "text/html": [
       "<div>\n",
       "<style scoped>\n",
       "    .dataframe tbody tr th:only-of-type {\n",
       "        vertical-align: middle;\n",
       "    }\n",
       "\n",
       "    .dataframe tbody tr th {\n",
       "        vertical-align: top;\n",
       "    }\n",
       "\n",
       "    .dataframe thead th {\n",
       "        text-align: right;\n",
       "    }\n",
       "</style>\n",
       "<table border=\"1\" class=\"dataframe\">\n",
       "  <thead>\n",
       "    <tr style=\"text-align: right;\">\n",
       "      <th></th>\n",
       "      <th>Order ID</th>\n",
       "      <th>Product</th>\n",
       "      <th>Quantity Ordered</th>\n",
       "      <th>Price Each($)</th>\n",
       "      <th>Order Date</th>\n",
       "      <th>Purchase Address</th>\n",
       "      <th>Order_Month</th>\n",
       "      <th>Zip Code</th>\n",
       "      <th>Order_Hour</th>\n",
       "      <th>Sales</th>\n",
       "      <th>Sales ($)</th>\n",
       "      <th>City_State</th>\n",
       "      <th>complete_order</th>\n",
       "    </tr>\n",
       "  </thead>\n",
       "  <tbody>\n",
       "    <tr>\n",
       "      <th>2</th>\n",
       "      <td>176560</td>\n",
       "      <td>Google Phone</td>\n",
       "      <td>1</td>\n",
       "      <td>600.00</td>\n",
       "      <td>2019-04-12 14:38:00</td>\n",
       "      <td>669 Spruce St, Los Angeles, CA 90001</td>\n",
       "      <td>Apr</td>\n",
       "      <td>90001</td>\n",
       "      <td>14</td>\n",
       "      <td>600.00</td>\n",
       "      <td>600.00</td>\n",
       "      <td>Los Angeles (CA)</td>\n",
       "      <td>Google Phone,Wired Headphones</td>\n",
       "    </tr>\n",
       "    <tr>\n",
       "      <th>3</th>\n",
       "      <td>176560</td>\n",
       "      <td>Wired Headphones</td>\n",
       "      <td>1</td>\n",
       "      <td>11.99</td>\n",
       "      <td>2019-04-12 14:38:00</td>\n",
       "      <td>669 Spruce St, Los Angeles, CA 90001</td>\n",
       "      <td>Apr</td>\n",
       "      <td>90001</td>\n",
       "      <td>14</td>\n",
       "      <td>11.99</td>\n",
       "      <td>11.99</td>\n",
       "      <td>Los Angeles (CA)</td>\n",
       "      <td>Google Phone,Wired Headphones</td>\n",
       "    </tr>\n",
       "    <tr>\n",
       "      <th>17</th>\n",
       "      <td>176574</td>\n",
       "      <td>Google Phone</td>\n",
       "      <td>1</td>\n",
       "      <td>600.00</td>\n",
       "      <td>2019-04-03 19:42:00</td>\n",
       "      <td>20 Hill St, Los Angeles, CA 90001</td>\n",
       "      <td>Apr</td>\n",
       "      <td>90001</td>\n",
       "      <td>19</td>\n",
       "      <td>600.00</td>\n",
       "      <td>600.00</td>\n",
       "      <td>Los Angeles (CA)</td>\n",
       "      <td>Google Phone,USB-C Charging Cable</td>\n",
       "    </tr>\n",
       "    <tr>\n",
       "      <th>18</th>\n",
       "      <td>176574</td>\n",
       "      <td>USB-C Charging Cable</td>\n",
       "      <td>1</td>\n",
       "      <td>11.95</td>\n",
       "      <td>2019-04-03 19:42:00</td>\n",
       "      <td>20 Hill St, Los Angeles, CA 90001</td>\n",
       "      <td>Apr</td>\n",
       "      <td>90001</td>\n",
       "      <td>19</td>\n",
       "      <td>11.95</td>\n",
       "      <td>11.95</td>\n",
       "      <td>Los Angeles (CA)</td>\n",
       "      <td>Google Phone,USB-C Charging Cable</td>\n",
       "    </tr>\n",
       "    <tr>\n",
       "      <th>29</th>\n",
       "      <td>176585</td>\n",
       "      <td>Bose SoundSport Headphones</td>\n",
       "      <td>1</td>\n",
       "      <td>99.99</td>\n",
       "      <td>2019-04-07 11:31:00</td>\n",
       "      <td>823 Highland St, Boston, MA 02215</td>\n",
       "      <td>Apr</td>\n",
       "      <td>02215</td>\n",
       "      <td>11</td>\n",
       "      <td>99.99</td>\n",
       "      <td>99.99</td>\n",
       "      <td>Boston (MA)</td>\n",
       "      <td>Bose SoundSport Headphones,Bose SoundSport Hea...</td>\n",
       "    </tr>\n",
       "  </tbody>\n",
       "</table>\n",
       "</div>"
      ],
      "text/plain": [
       "    Order ID                     Product  Quantity Ordered  Price Each($)  \\\n",
       "2     176560                Google Phone                 1         600.00   \n",
       "3     176560            Wired Headphones                 1          11.99   \n",
       "17    176574                Google Phone                 1         600.00   \n",
       "18    176574        USB-C Charging Cable                 1          11.95   \n",
       "29    176585  Bose SoundSport Headphones                 1          99.99   \n",
       "\n",
       "            Order Date                      Purchase Address Order_Month  \\\n",
       "2  2019-04-12 14:38:00  669 Spruce St, Los Angeles, CA 90001         Apr   \n",
       "3  2019-04-12 14:38:00  669 Spruce St, Los Angeles, CA 90001         Apr   \n",
       "17 2019-04-03 19:42:00     20 Hill St, Los Angeles, CA 90001         Apr   \n",
       "18 2019-04-03 19:42:00     20 Hill St, Los Angeles, CA 90001         Apr   \n",
       "29 2019-04-07 11:31:00     823 Highland St, Boston, MA 02215         Apr   \n",
       "\n",
       "   Zip Code  Order_Hour   Sales  Sales ($)        City_State  \\\n",
       "2     90001          14  600.00     600.00  Los Angeles (CA)   \n",
       "3     90001          14   11.99      11.99  Los Angeles (CA)   \n",
       "17    90001          19  600.00     600.00  Los Angeles (CA)   \n",
       "18    90001          19   11.95      11.95  Los Angeles (CA)   \n",
       "29    02215          11   99.99      99.99       Boston (MA)   \n",
       "\n",
       "                                       complete_order  \n",
       "2                       Google Phone,Wired Headphones  \n",
       "3                       Google Phone,Wired Headphones  \n",
       "17                  Google Phone,USB-C Charging Cable  \n",
       "18                  Google Phone,USB-C Charging Cable  \n",
       "29  Bose SoundSport Headphones,Bose SoundSport Hea...  "
      ]
     },
     "execution_count": 330,
     "metadata": {},
     "output_type": "execute_result"
    }
   ],
   "source": [
    "df.head()"
   ]
  },
  {
   "cell_type": "code",
   "execution_count": 351,
   "id": "ff2f1e79-493f-4a95-85c6-892986b97968",
   "metadata": {},
   "outputs": [],
   "source": [
    "df=df[['Order ID' , 'complete_order']].drop_duplicates()\n"
   ]
  },
  {
   "cell_type": "code",
   "execution_count": 354,
   "id": "80a3d372-a4e5-4348-af47-77da10d445ef",
   "metadata": {},
   "outputs": [
    {
     "name": "stdout",
     "output_type": "stream",
     "text": [
      "('iPhone', 'Lightning Charging Cable') 1005\n",
      "('Google Phone', 'USB-C Charging Cable') 987\n",
      "('iPhone', 'Wired Headphones') 447\n",
      "('Google Phone', 'Wired Headphones') 414\n",
      "('Vareebadd Phone', 'USB-C Charging Cable') 361\n",
      "('iPhone', 'Apple Airpods Headphones') 360\n",
      "('Google Phone', 'Bose SoundSport Headphones') 220\n",
      "('USB-C Charging Cable', 'Wired Headphones') 160\n",
      "('Vareebadd Phone', 'Wired Headphones') 143\n",
      "('Lightning Charging Cable', 'Wired Headphones') 92\n"
     ]
    }
   ],
   "source": [
    "count = Counter()\n",
    "\n",
    "for row in df['complete_order']:\n",
    "    row_list = row.split(',')\n",
    "    count.update(Counter(combinations(row_list,2)))\n",
    "count.most_common(10)\n",
    "\n",
    "for key, value in count.most_common(10):\n",
    "    print(key,value)"
   ]
  },
  {
   "cell_type": "code",
   "execution_count": 355,
   "id": "77446a51-8c3f-42ca-9941-26a8708571b7",
   "metadata": {},
   "outputs": [
    {
     "name": "stdout",
     "output_type": "stream",
     "text": [
      "('Google Phone', 'USB-C Charging Cable', 'Wired Headphones') 87\n",
      "('iPhone', 'Lightning Charging Cable', 'Wired Headphones') 62\n",
      "('iPhone', 'Lightning Charging Cable', 'Apple Airpods Headphones') 47\n",
      "('Google Phone', 'USB-C Charging Cable', 'Bose SoundSport Headphones') 35\n",
      "('Vareebadd Phone', 'USB-C Charging Cable', 'Wired Headphones') 33\n",
      "('iPhone', 'Apple Airpods Headphones', 'Wired Headphones') 27\n",
      "('Google Phone', 'Bose SoundSport Headphones', 'Wired Headphones') 24\n",
      "('Vareebadd Phone', 'USB-C Charging Cable', 'Bose SoundSport Headphones') 16\n",
      "('USB-C Charging Cable', 'Bose SoundSport Headphones', 'Wired Headphones') 5\n",
      "('Vareebadd Phone', 'Bose SoundSport Headphones', 'Wired Headphones') 5\n"
     ]
    }
   ],
   "source": [
    "count = Counter()\n",
    "\n",
    "for row in df['complete_order']:\n",
    "    row_list = row.split(',')\n",
    "    count.update(Counter(combinations(row_list,3)))\n",
    "count.most_common(10)\n",
    "\n",
    "for key, value in count.most_common(10):\n",
    "    print(key,value)"
   ]
  },
  {
   "cell_type": "code",
   "execution_count": 356,
   "id": "05c3c16d-69fc-4f1f-aebd-762fe163a7dc",
   "metadata": {},
   "outputs": [
    {
     "name": "stdout",
     "output_type": "stream",
     "text": [
      "('iPhone', 'Lightning Charging Cable', 'Apple Airpods Headphones', 'Wired Headphones') 4\n",
      "('Google Phone', 'USB-C Charging Cable', 'Bose SoundSport Headphones', 'Wired Headphones') 3\n",
      "('Vareebadd Phone', 'USB-C Charging Cable', 'Bose SoundSport Headphones', 'Wired Headphones') 2\n",
      "('Google Phone', 'USB-C Charging Cable', 'Wired Headphones', 'USB-C Charging Cable') 1\n",
      "('iPhone', 'Lightning Charging Cable', 'Wired Headphones', 'AA Batteries (4-pack)') 1\n",
      "('Google Phone', 'USB-C Charging Cable', 'Bose SoundSport Headphones', '34in Ultrawide Monitor') 1\n",
      "('Google Phone', 'USB-C Charging Cable', 'Wired Headphones', 'Apple Airpods Headphones') 1\n",
      "('iPhone', 'Lightning Charging Cable', 'Apple Airpods Headphones', 'Google Phone') 1\n",
      "('iPhone', 'Lightning Charging Cable', 'Wired Headphones', 'Google Phone') 1\n",
      "('iPhone', 'Apple Airpods Headphones', 'Wired Headphones', 'Google Phone') 1\n"
     ]
    }
   ],
   "source": [
    "count = Counter()\n",
    "\n",
    "for row in df['complete_order']:\n",
    "    row_list = row.split(',')\n",
    "    count.update(Counter(combinations(row_list,4)))\n",
    "count.most_common(10)\n",
    "\n",
    "for key, value in count.most_common(10):\n",
    "    print(key,value)"
   ]
  },
  {
   "cell_type": "code",
   "execution_count": null,
   "id": "1bb089ef-7ea7-490c-b721-d8803ecd855c",
   "metadata": {},
   "outputs": [],
   "source": []
  }
 ],
 "metadata": {
  "kernelspec": {
   "display_name": "Python 3 (ipykernel)",
   "language": "python",
   "name": "python3"
  },
  "language_info": {
   "codemirror_mode": {
    "name": "ipython",
    "version": 3
   },
   "file_extension": ".py",
   "mimetype": "text/x-python",
   "name": "python",
   "nbconvert_exporter": "python",
   "pygments_lexer": "ipython3",
   "version": "3.12.1"
  }
 },
 "nbformat": 4,
 "nbformat_minor": 5
}
